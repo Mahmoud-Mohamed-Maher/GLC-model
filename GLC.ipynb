{
 "cells": [
  {
   "cell_type": "code",
   "execution_count": 8,
   "id": "07060621",
   "metadata": {},
   "outputs": [],
   "source": [
    "import cobra\n"
   ]
  },
  {
   "cell_type": "code",
   "execution_count": 9,
   "id": "382a1ff8",
   "metadata": {},
   "outputs": [],
   "source": [
    "from cobra import Model,Reaction,Metabolite\n"
   ]
  },
  {
   "cell_type": "code",
   "execution_count": 10,
   "id": "c35f3740",
   "metadata": {},
   "outputs": [],
   "source": [
    "model=Model('Model')\n"
   ]
  },
  {
   "cell_type": "code",
   "execution_count": 11,
   "id": "24c56ec5",
   "metadata": {},
   "outputs": [],
   "source": [
    "# ====> GLC\n",
    "\n",
    "v0=Reaction('v0')\n",
    "v0.name='v0'\n",
    "v0.lower_bound=1\n",
    "v0.upper_bound=1"
   ]
  },
  {
   "cell_type": "code",
   "execution_count": 12,
   "id": "f70e9294",
   "metadata": {},
   "outputs": [],
   "source": [
    "\n",
    "# GLC ===> AA\n",
    "\n",
    "v1=Reaction('v1')\n",
    "v1.name='v1'\n",
    "v1.lower_bound=0\n",
    "v1.upper_bound=1000\n",
    "\n",
    "# AA =====> BIOMASS\n",
    "\n",
    "v2=Reaction('v2')\n",
    "v2.name='v2'\n",
    "v2.lower_bound=0\n",
    "v2.upper_bound=1000\n",
    "\n",
    "\n",
    "# Bio =====>\n",
    "\n",
    "v3=Reaction('v3')\n",
    "v3.name='v3'\n",
    "v3.lower_bound=0\n",
    "v3.upper_bound=1000\n",
    "\n"
   ]
  },
  {
   "cell_type": "code",
   "execution_count": 13,
   "id": "7e098880",
   "metadata": {},
   "outputs": [],
   "source": [
    "AA= Metabolite('AA',compartment='Biomass')\n",
    "\n",
    "Bio=Metabolite('Bio',compartment='Biomass')\n",
    "\n",
    "Glc= Metabolite('Glc',compartment='Biomass')\n"
   ]
  },
  {
   "cell_type": "code",
   "execution_count": 14,
   "id": "92e9d6e3",
   "metadata": {},
   "outputs": [],
   "source": [
    "v1.add_metabolites({Glc:-1,AA:1})\n",
    "\n",
    "\n",
    "v2.add_metabolites({AA:-9.09,Bio:1})\n",
    "\n",
    "\n",
    "v0.add_metabolites({Glc:1})\n",
    "\n",
    "\n",
    "v3.add_metabolites({Bio:-1})\n",
    "\n",
    "\n"
   ]
  },
  {
   "cell_type": "code",
   "execution_count": 15,
   "id": "09a15da8",
   "metadata": {},
   "outputs": [],
   "source": [
    "model.add_reactions([v0,v1,v2,v3])"
   ]
  },
  {
   "cell_type": "code",
   "execution_count": 16,
   "id": "20740f8f",
   "metadata": {},
   "outputs": [],
   "source": [
    "model.objective = v3\n"
   ]
  },
  {
   "cell_type": "code",
   "execution_count": 17,
   "id": "938163c9",
   "metadata": {},
   "outputs": [
    {
     "data": {
      "text/html": [
       "<strong><em>Optimal</em> solution with objective value 0.110</strong><br><div>\n",
       "<style scoped>\n",
       "    .dataframe tbody tr th:only-of-type {\n",
       "        vertical-align: middle;\n",
       "    }\n",
       "\n",
       "    .dataframe tbody tr th {\n",
       "        vertical-align: top;\n",
       "    }\n",
       "\n",
       "    .dataframe thead th {\n",
       "        text-align: right;\n",
       "    }\n",
       "</style>\n",
       "<table border=\"1\" class=\"dataframe\">\n",
       "  <thead>\n",
       "    <tr style=\"text-align: right;\">\n",
       "      <th></th>\n",
       "      <th>fluxes</th>\n",
       "      <th>reduced_costs</th>\n",
       "    </tr>\n",
       "  </thead>\n",
       "  <tbody>\n",
       "    <tr>\n",
       "      <th>v0</th>\n",
       "      <td>1.000000</td>\n",
       "      <td>0.220022</td>\n",
       "    </tr>\n",
       "    <tr>\n",
       "      <th>v1</th>\n",
       "      <td>1.000000</td>\n",
       "      <td>0.000000</td>\n",
       "    </tr>\n",
       "    <tr>\n",
       "      <th>v2</th>\n",
       "      <td>0.110011</td>\n",
       "      <td>0.000000</td>\n",
       "    </tr>\n",
       "    <tr>\n",
       "      <th>v3</th>\n",
       "      <td>0.110011</td>\n",
       "      <td>0.000000</td>\n",
       "    </tr>\n",
       "  </tbody>\n",
       "</table>\n",
       "</div>"
      ],
      "text/plain": [
       "<Solution 0.110 at 0x2ae27402970>"
      ]
     },
     "execution_count": 17,
     "metadata": {},
     "output_type": "execute_result"
    }
   ],
   "source": [
    "model.optimize()\n"
   ]
  },
  {
   "cell_type": "code",
   "execution_count": 18,
   "id": "7a504f53",
   "metadata": {},
   "outputs": [
    {
     "data": {
      "text/html": [
       "<h3>Objective</h3><p>1.0 v3 = 0.11001100110011001</p><h4>Uptake</h4><table border=\"1\" class=\"dataframe\">\n",
       "  <thead>\n",
       "    <tr style=\"text-align: right;\">\n",
       "      <th>Metabolite</th>\n",
       "      <th>Reaction</th>\n",
       "      <th>Flux</th>\n",
       "      <th>C-Number</th>\n",
       "      <th>C-Flux</th>\n",
       "    </tr>\n",
       "  </thead>\n",
       "  <tbody>\n",
       "    <tr>\n",
       "      <td>Glc</td>\n",
       "      <td>v0</td>\n",
       "      <td>1</td>\n",
       "      <td>0</td>\n",
       "      <td>0.00%</td>\n",
       "    </tr>\n",
       "  </tbody>\n",
       "</table><h4>Secretion</h4><table border=\"1\" class=\"dataframe\">\n",
       "  <thead>\n",
       "    <tr style=\"text-align: right;\">\n",
       "      <th>Metabolite</th>\n",
       "      <th>Reaction</th>\n",
       "      <th>Flux</th>\n",
       "      <th>C-Number</th>\n",
       "      <th>C-Flux</th>\n",
       "    </tr>\n",
       "  </thead>\n",
       "  <tbody>\n",
       "    <tr>\n",
       "      <td>Bio</td>\n",
       "      <td>v3</td>\n",
       "      <td>-0.11</td>\n",
       "      <td>0</td>\n",
       "      <td>0.00%</td>\n",
       "    </tr>\n",
       "  </tbody>\n",
       "</table>"
      ],
      "text/plain": [
       "<cobra.summary.model_summary.ModelSummary at 0x2ae2e755490>"
      ]
     },
     "execution_count": 18,
     "metadata": {},
     "output_type": "execute_result"
    }
   ],
   "source": [
    "model.summary()\n"
   ]
  },
  {
   "cell_type": "code",
   "execution_count": null,
   "id": "b61184ce",
   "metadata": {},
   "outputs": [],
   "source": []
  }
 ],
 "metadata": {
  "kernelspec": {
   "display_name": "Python 3 (ipykernel)",
   "language": "python",
   "name": "python3"
  },
  "language_info": {
   "codemirror_mode": {
    "name": "ipython",
    "version": 3
   },
   "file_extension": ".py",
   "mimetype": "text/x-python",
   "name": "python",
   "nbconvert_exporter": "python",
   "pygments_lexer": "ipython3",
   "version": "3.9.7"
  }
 },
 "nbformat": 4,
 "nbformat_minor": 5
}
